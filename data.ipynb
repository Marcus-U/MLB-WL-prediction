{
 "cells": [
  {
   "cell_type": "code",
   "execution_count": 6,
   "metadata": {},
   "outputs": [],
   "source": [
    "import warnings\n",
    "warnings.simplefilter(action='ignore', category=FutureWarning)\n",
    "\n",
    "import pybaseball\n",
    "from pybaseball import statcast\n",
    "pybaseball.cache.enable()\n",
    "\n",
    "import pandas as pd \n",
    "import numpy as np \n",
    "import matplotlib.pyplot as plt \n",
    "import seaborn as sns"
   ]
  },
  {
   "cell_type": "code",
   "execution_count": 17,
   "metadata": {},
   "outputs": [
    {
     "name": "stdout",
     "output_type": "stream",
     "text": [
      "This is a large query, it may take a moment to complete\n"
     ]
    },
    {
     "name": "stderr",
     "output_type": "stream",
     "text": [
      "100%|██████████| 186/186 [00:04<00:00, 38.92it/s]\n"
     ]
    },
    {
     "name": "stdout",
     "output_type": "stream",
     "text": [
      "CPU times: user 14.4 s, sys: 6.35 s, total: 20.8 s\n",
      "Wall time: 15.8 s\n"
     ]
    },
    {
     "data": {
      "text/plain": [
       "(717945, 113)"
      ]
     },
     "execution_count": 17,
     "metadata": {},
     "output_type": "execute_result"
    }
   ],
   "source": [
    "%%time\n",
    "# .iloc[::-1].reset_index(drop=True): reverse the row order because the default of row 1 is the most recent instance\n",
    "df = statcast(start_dt='2023-03-30',end_dt='2023-10-01').iloc[::-1].reset_index(drop=True)\n",
    "df.shape"
   ]
  },
  {
   "cell_type": "code",
   "execution_count": 22,
   "metadata": {},
   "outputs": [
    {
     "name": "stdout",
     "output_type": "stream",
     "text": [
      "[81]\n",
      "number of teams in the query: 30\n"
     ]
    }
   ],
   "source": [
    "# check \n",
    "check_n_home_game = df.groupby(['home_team'])['game_pk'].nunique()\n",
    "print(check_n_home_game.unique())\n",
    "print(f'number of teams in the query: {len(check_n_home_game)}')"
   ]
  },
  {
   "cell_type": "code",
   "execution_count": 30,
   "metadata": {},
   "outputs": [
    {
     "name": "stdout",
     "output_type": "stream",
     "text": [
      "   game_pk  game_date  inning inning_topbot\n",
      "0   718767 2023-03-30       1           Top\n",
      "1   718767 2023-03-30       1           Top\n",
      "2   718767 2023-03-30       1           Top\n",
      "3   718767 2023-03-30       1           Top\n",
      "4   718767 2023-03-30       1           Top\n",
      "        game_pk  game_date  inning inning_topbot\n",
      "717940   716367 2023-10-01       9           Bot\n",
      "717941   716367 2023-10-01       9           Bot\n",
      "717942   716367 2023-10-01       9           Bot\n",
      "717943   716367 2023-10-01       9           Bot\n",
      "717944   716367 2023-10-01       9           Bot\n"
     ]
    }
   ],
   "source": [
    "# check row order \n",
    "print(df[['game_pk','game_date','inning','inning_topbot']].head())\n",
    "print(df[['game_pk','game_date','inning','inning_topbot']].tail())"
   ]
  },
  {
   "cell_type": "code",
   "execution_count": 45,
   "metadata": {},
   "outputs": [
    {
     "name": "stdout",
     "output_type": "stream",
     "text": [
      "['home_Win', 'game_pk', 'date', 'away_team', 'home_team', 'away_starting_pitcher', 'home_starting_pitcher', 'away_b1', 'away_b2', 'away_b3']\n",
      "['away_b4', 'away_b5', 'away_b6', 'away_b7', 'away_b8', 'away_b9', 'home_b1', 'home_b2', 'home_b3', 'home_b4']\n",
      "['home_b5', 'home_b6', 'home_b7', 'home_b8', 'home_b9']\n"
     ]
    }
   ],
   "source": [
    "# list out what kind of data we need for each game\n",
    "cols = ['home_Win','game_pk','date','away_team','home_team','away_starting_pitcher','home_starting_pitcher']\n",
    "\n",
    "# add batters 1-9 for both away and home\n",
    "for i in ['away','home']:\n",
    "    for j in range(1,10):\n",
    "        cols.append(f'{i}_b{j}')\n",
    "\n",
    "# colnames for pitcher metrics: 'sp_era','sp_k9','sp_bb','bp_era','bp_k9','bp_bb'\n",
    "# sp: starting pitcher; bp: bullpen; bb: pitcher's walk rate\n",
    "# pitcher metrics will be added later\n",
    "# batter metrics will be added later as well\n",
    "\n",
    "print(cols[:10])\n",
    "print(cols[10:20])\n",
    "print(cols[20:])"
   ]
  },
  {
   "cell_type": "code",
   "execution_count": 54,
   "metadata": {},
   "outputs": [
    {
     "name": "stderr",
     "output_type": "stream",
     "text": [
      "/var/folders/4f/yqk707nn61d0n9l9qmlg7f4w0000gn/T/ipykernel_29875/4294399269.py:1: DeprecationWarning: DataFrameGroupBy.apply operated on the grouping columns. This behavior is deprecated, and in a future version of pandas the grouping columns will be excluded from the operation. Either pass `include_groups=False` to exclude the groupings or explicitly select the grouping columns after groupby to silence this warning.\n",
      "  data_without_batters = df.groupby('game_pk').apply(lambda group: pd.Series({\n"
     ]
    },
    {
     "data": {
      "text/html": [
       "<div>\n",
       "<style scoped>\n",
       "    .dataframe tbody tr th:only-of-type {\n",
       "        vertical-align: middle;\n",
       "    }\n",
       "\n",
       "    .dataframe tbody tr th {\n",
       "        vertical-align: top;\n",
       "    }\n",
       "\n",
       "    .dataframe thead th {\n",
       "        text-align: right;\n",
       "    }\n",
       "</style>\n",
       "<table border=\"1\" class=\"dataframe\">\n",
       "  <thead>\n",
       "    <tr style=\"text-align: right;\">\n",
       "      <th></th>\n",
       "      <th>game_pk</th>\n",
       "      <th>date</th>\n",
       "      <th>away_team</th>\n",
       "      <th>home_team</th>\n",
       "      <th>away_starting_pitcher</th>\n",
       "      <th>home_starting_pitcher</th>\n",
       "    </tr>\n",
       "  </thead>\n",
       "  <tbody>\n",
       "    <tr>\n",
       "      <th>0</th>\n",
       "      <td>718782</td>\n",
       "      <td>2023-03-30</td>\n",
       "      <td>BAL</td>\n",
       "      <td>BOS</td>\n",
       "      <td>502043</td>\n",
       "      <td>446372</td>\n",
       "    </tr>\n",
       "    <tr>\n",
       "      <th>1</th>\n",
       "      <td>718781</td>\n",
       "      <td>2023-03-30</td>\n",
       "      <td>SF</td>\n",
       "      <td>NYY</td>\n",
       "      <td>657277</td>\n",
       "      <td>543037</td>\n",
       "    </tr>\n",
       "    <tr>\n",
       "      <th>2</th>\n",
       "      <td>718767</td>\n",
       "      <td>2023-03-30</td>\n",
       "      <td>CLE</td>\n",
       "      <td>SEA</td>\n",
       "      <td>669456</td>\n",
       "      <td>622491</td>\n",
       "    </tr>\n",
       "    <tr>\n",
       "      <th>3</th>\n",
       "      <td>718768</td>\n",
       "      <td>2023-03-30</td>\n",
       "      <td>CWS</td>\n",
       "      <td>HOU</td>\n",
       "      <td>656302</td>\n",
       "      <td>664285</td>\n",
       "    </tr>\n",
       "    <tr>\n",
       "      <th>4</th>\n",
       "      <td>718770</td>\n",
       "      <td>2023-03-30</td>\n",
       "      <td>AZ</td>\n",
       "      <td>LAD</td>\n",
       "      <td>668678</td>\n",
       "      <td>628711</td>\n",
       "    </tr>\n",
       "  </tbody>\n",
       "</table>\n",
       "</div>"
      ],
      "text/plain": [
       "   game_pk       date away_team home_team  away_starting_pitcher  \\\n",
       "0   718782 2023-03-30       BAL       BOS                 502043   \n",
       "1   718781 2023-03-30        SF       NYY                 657277   \n",
       "2   718767 2023-03-30       CLE       SEA                 669456   \n",
       "3   718768 2023-03-30       CWS       HOU                 656302   \n",
       "4   718770 2023-03-30        AZ       LAD                 668678   \n",
       "\n",
       "   home_starting_pitcher  \n",
       "0                 446372  \n",
       "1                 543037  \n",
       "2                 622491  \n",
       "3                 664285  \n",
       "4                 628711  "
      ]
     },
     "execution_count": 54,
     "metadata": {},
     "output_type": "execute_result"
    }
   ],
   "source": [
    "data_without_batters = df.groupby('game_pk').apply(lambda group: pd.Series({\n",
    "    'date': group['game_date'].iloc[0],  # only one corresponding value\n",
    "    'away_team': group['away_team'].iloc[0],  # only one corresponding value\n",
    "    'home_team': group['home_team'].iloc[0],  # only one corresponding value\n",
    "    'away_starting_pitcher': group.loc[(group['inning'] == 1) & (group['inning_topbot'] == 'Bot'), 'pitcher'].iloc[0],\n",
    "    'home_starting_pitcher': group.loc[(group['inning'] == 1) & (group['inning_topbot'] == 'Top'), 'pitcher'].iloc[0],\n",
    "\n",
    "})).sort_values(by='date', ascending=True).reset_index()\n",
    "data_without_batters.head()"
   ]
  },
  {
   "cell_type": "code",
   "execution_count": 47,
   "metadata": {},
   "outputs": [],
   "source": [
    "def get_away_batting_order(group):\n",
    "    away_batters = group.loc[group['inning_topbot'] == 'Top', 'batter'].unique()[:9]\n",
    "    away_b_dict = {f'away_b{i+1}':away_batters[i] for i in range(9)}\n",
    "    return pd.Series(away_b_dict)\n",
    "\n",
    "def get_home_batting_order(group):\n",
    "    home_batters = group.loc[group['inning_topbot'] == 'Bot', 'batter'].unique()[:9]\n",
    "    home_b_dict = {f'home_b{i+1}':home_batters[i] for i in range(9)}\n",
    "    return pd.Series(home_b_dict)\n"
   ]
  },
  {
   "cell_type": "code",
   "execution_count": 52,
   "metadata": {},
   "outputs": [
    {
     "name": "stderr",
     "output_type": "stream",
     "text": [
      "/var/folders/4f/yqk707nn61d0n9l9qmlg7f4w0000gn/T/ipykernel_29875/1153644726.py:1: DeprecationWarning: DataFrameGroupBy.apply operated on the grouping columns. This behavior is deprecated, and in a future version of pandas the grouping columns will be excluded from the operation. Either pass `include_groups=False` to exclude the groupings or explicitly select the grouping columns after groupby to silence this warning.\n",
      "  away_bs = df.groupby('game_pk').apply(get_away_batting_order)\n",
      "/var/folders/4f/yqk707nn61d0n9l9qmlg7f4w0000gn/T/ipykernel_29875/1153644726.py:2: DeprecationWarning: DataFrameGroupBy.apply operated on the grouping columns. This behavior is deprecated, and in a future version of pandas the grouping columns will be excluded from the operation. Either pass `include_groups=False` to exclude the groupings or explicitly select the grouping columns after groupby to silence this warning.\n",
      "  home_bs = df.groupby('game_pk').apply(get_home_batting_order)\n"
     ]
    }
   ],
   "source": [
    "away_bs = df.groupby('game_pk').apply(get_away_batting_order)\n",
    "home_bs = df.groupby('game_pk').apply(get_home_batting_order)"
   ]
  },
  {
   "cell_type": "code",
   "execution_count": 56,
   "metadata": {},
   "outputs": [
    {
     "name": "stdout",
     "output_type": "stream",
     "text": [
      "(2430, 24)\n"
     ]
    }
   ],
   "source": [
    "data_with_batters = data_without_batters.merge(away_bs, on='game_pk').merge(home_bs, on='game_pk')\n",
    "data_with_batters.head()\n",
    "print(data_with_batters.shape)"
   ]
  },
  {
   "cell_type": "code",
   "execution_count": 57,
   "metadata": {},
   "outputs": [],
   "source": [
    "data_with_batters.to_csv('data_without_metric.csv', index=True)"
   ]
  },
  {
   "cell_type": "code",
   "execution_count": null,
   "metadata": {},
   "outputs": [],
   "source": []
  }
 ],
 "metadata": {
  "kernelspec": {
   "display_name": "cpsc330",
   "language": "python",
   "name": "python3"
  },
  "language_info": {
   "codemirror_mode": {
    "name": "ipython",
    "version": 3
   },
   "file_extension": ".py",
   "mimetype": "text/x-python",
   "name": "python",
   "nbconvert_exporter": "python",
   "pygments_lexer": "ipython3",
   "version": "3.10.0"
  }
 },
 "nbformat": 4,
 "nbformat_minor": 2
}
