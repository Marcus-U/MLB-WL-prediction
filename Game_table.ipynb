{
 "cells": [
  {
   "cell_type": "code",
   "execution_count": 1,
   "metadata": {},
   "outputs": [],
   "source": [
    "import warnings\n",
    "warnings.simplefilter(action='ignore', category=FutureWarning)\n",
    "\n",
    "import pybaseball\n",
    "from pybaseball import statcast\n",
    "pybaseball.cache.enable()\n",
    "\n",
    "import pandas as pd \n",
    "import numpy as np \n",
    "import matplotlib.pyplot as plt \n",
    "import seaborn as sns"
   ]
  },
  {
   "cell_type": "code",
   "execution_count": 2,
   "metadata": {},
   "outputs": [],
   "source": [
    "def get_pitch_level_data(start, end):\n",
    "    df = statcast(start_dt=start,end_dt=end).iloc[::-1].reset_index(drop=True)\n",
    "    return df\n",
    "\n"
   ]
  },
  {
   "cell_type": "code",
   "execution_count": 31,
   "metadata": {},
   "outputs": [],
   "source": [
    "def get_game_level_data(df):\n",
    "    data_without_batters = df.groupby('game_pk').apply(lambda group: pd.Series({\n",
    "    'home_result': None,\n",
    "    'date': group['game_date'].iloc[0],  # only one corresponding value\n",
    "    'away_team': group['away_team'].iloc[0],  # only one corresponding value\n",
    "    'home_team': group['home_team'].iloc[0],  # only one corresponding value\n",
    "    'away_score': group['away_score'].max(),\n",
    "    'home_score': group['home_score'].max(),\n",
    "    'away_starting_pitcher': group.loc[(group['inning'] == 1) & (group['inning_topbot'] == 'Bot'), 'pitcher'].iloc[0],\n",
    "    'home_starting_pitcher': group.loc[(group['inning'] == 1) & (group['inning_topbot'] == 'Top'), 'pitcher'].iloc[0],\n",
    "    })).sort_values(by='date', ascending=True).reset_index()\n",
    "    data_without_batters['home_result'] = np.where(data_without_batters['home_score'] > data_without_batters['away_score'], 'W', 'L')\n",
    "    return data_without_batters\n",
    "\n",
    "def get_game_level_data_with_batters(df, data_without_batters):\n",
    "    def get_away_batting_order(group):\n",
    "        away_batters = group.loc[group['inning_topbot'] == 'Top', 'batter'].unique()[:9]\n",
    "        away_b_dict = {f'away_b{i+1}':away_batters[i] for i in range(9)}\n",
    "        return pd.Series(away_b_dict)\n",
    "\n",
    "    def get_home_batting_order(group):\n",
    "        home_batters = group.loc[group['inning_topbot'] == 'Bot', 'batter'].unique()[:9]\n",
    "        home_b_dict = {f'home_b{i+1}':home_batters[i] for i in range(9)}\n",
    "        return pd.Series(home_b_dict)\n",
    "\n",
    "\n",
    "    away_bs = df.groupby('game_pk').apply(get_away_batting_order)\n",
    "    home_bs = df.groupby('game_pk').apply(get_home_batting_order)\n",
    "    data_with_batters = data_without_batters.merge(away_bs, on='game_pk').merge(home_bs, on='game_pk')\n",
    "    return data_with_batters\n",
    "\n"
   ]
  },
  {
   "cell_type": "code",
   "execution_count": 15,
   "metadata": {},
   "outputs": [],
   "source": [
    "def get_previous_n_batter_games(results, n, filename = \"\", save_file = False):\n",
    "    home_teams, away_teams = results.copy(), results.copy()\n",
    "\n",
    "\n",
    "    home_teams[\"team\"] = home_teams[\"home_team\"]\n",
    "    away_teams[\"team\"] = away_teams[\"away_team\"]\n",
    "    games = pd.concat([home_teams, away_teams])\n",
    "\n",
    "    games = games.loc[:,['team', 'date', 'game_pk']]\n",
    "\n",
    "    games[\"date\"] = pd.to_datetime(games[\"date\"])\n",
    "\n",
    "    games.sort_values(by = [\"team\",\"date\"], inplace = True, axis = 0, ascending = [True, True])\n",
    "    prev_col = \"game_pk\"\n",
    "\n",
    "    for i in range(n):\n",
    "        column_name = f\"prev_{i+1}_game_pk\"\n",
    "        games[column_name] = games.groupby('team')[prev_col].shift()\n",
    "        prev_col = column_name\n",
    "    \n",
    "    if save_file:\n",
    "        games.to_csv(filename, index = False)\n",
    "    \n",
    "    return games"
   ]
  },
  {
   "cell_type": "code",
   "execution_count": 20,
   "metadata": {},
   "outputs": [],
   "source": [
    "def get_previous_n_pitcher_games(results, n, filename = \"\", save_file = False):\n",
    "    home_teams, away_teams = results.copy(), results.copy()\n",
    "\n",
    "\n",
    "    home_teams[\"team\"] = home_teams[\"home_team\"]\n",
    "    away_teams[\"team\"] = away_teams[\"away_team\"]\n",
    "\n",
    "    home_teams[\"pitcher\"] = home_teams[\"home_starting_pitcher\"]\n",
    "    away_teams[\"pitcher\"] = away_teams[\"away_starting_pitcher\"]\n",
    "\n",
    "\n",
    "    games = pd.concat([home_teams, away_teams])\n",
    "\n",
    "    games = games.loc[:,['team', 'date', 'game_pk', 'pitcher']]\n",
    "\n",
    "    games[\"date\"] = pd.to_datetime(games[\"date\"])\n",
    "\n",
    "    games.sort_values(by = [\"team\",\"date\", \"pitcher\"], inplace = True, axis = 0, ascending = [True, True, True])\n",
    "    prev_col = \"game_pk\"\n",
    "\n",
    "    for i in range(n):\n",
    "        column_name = f\"prev_{i+1}_game_pk\"\n",
    "        games[column_name] = games.groupby(['team', 'pitcher'])[prev_col].shift()\n",
    "        prev_col = column_name\n",
    "    \n",
    "    if save_file:\n",
    "        games.to_csv(filename, index = False)\n",
    "    \n",
    "    return games"
   ]
  },
  {
   "cell_type": "code",
   "execution_count": 88,
   "metadata": {},
   "outputs": [],
   "source": [
    "def add_prev_game_stats(games, batter_stats_file, pitcher_stats_file, prev_batter_games, prev_pitcher_games, N):\n",
    "    batter_stats = pd.read_csv(batter_stats_file)\n",
    "    pitcher_stats = pd.read_csv(pitcher_stats_file)\n",
    "\n",
    "    # Reshape batter stats\n",
    "    batter_stats.drop(columns=['Unnamed: 0', 'game_sequence','batter'], inplace=True)\n",
    "    df_transformed = batter_stats.melt(id_vars=['game_pk', 'team','batting_order'], var_name='stat', value_name='value')\n",
    "\n",
    "    df_pivot = df_transformed.pivot_table(\n",
    "        index= ['game_pk', 'team'], \n",
    "        columns=['stat', 'batting_order'], \n",
    "        values='value'\n",
    "    )\n",
    "\n",
    "    # Flatten the MultiIndex columns to a single level\n",
    "    df_pivot.columns = [f\"{stat}_batter{batter}\" for stat, batter in df_pivot.columns]\n",
    "    batter_stats = df_pivot.reset_index()\n",
    "    \n",
    "    games = games.merge(prev_batter_games, how=\"left\", left_on= [\"game_pk\", \"home_team\"], right_on= [\"game_pk\", \"team\"], suffixes=(\"\",\"_home_batter\"))\n",
    "    games = games.merge(prev_batter_games, how=\"left\", left_on= [\"game_pk\", \"away_team\"], right_on= [\"game_pk\", \"team\"], suffixes=(\"\",\"_away_batter\"))\n",
    "    \n",
    "    games = games.merge(prev_pitcher_games, how=\"left\", left_on= [\"game_pk\", \"home_team\"], right_on= [\"game_pk\", \"team\"], suffixes=(\"\",\"_home_pitcher\"))\n",
    "    games = games.merge(prev_pitcher_games, how=\"left\", left_on= [\"game_pk\", \"away_team\"], right_on= [\"game_pk\", \"team\"], suffixes=(\"\",\"_away_pitcher\"))\n",
    "\n",
    "    games.drop(columns=['team', 'date_home_batter','team_away_batter', 'date_away_batter','team_home_pitcher', 'date_home_pitcher', 'pitcher','team_away_pitcher', 'date_away_pitcher', 'pitcher_away_pitcher','away_starting_pitcher', 'home_starting_pitcher'], inplace=True)\n",
    "    \n",
    "    games.rename(columns={\n",
    "        \"prev_1_game_pk\":\"prev_1_game_pk_home_batter\",\n",
    "        \"prev_2_game_pk\":\"prev_2_game_pk_home_batter\",\n",
    "        \"prev_3_game_pk\":\"prev_3_game_pk_home_batter\",\n",
    "        \"prev_4_game_pk\":\"prev_4_game_pk_home_batter\",\n",
    "        \"prev_5_game_pk\":\"prev_5_game_pk_home_batter\",\n",
    "        \"prev_6_game_pk\":\"prev_6_game_pk_home_batter\",\n",
    "        \"prev_7_game_pk\":\"prev_7_game_pk_home_batter\",\n",
    "        \"prev_8_game_pk\":\"prev_8_game_pk_home_batter\",\n",
    "        \"prev_9_game_pk\":\"prev_9_game_pk_home_batter\",\n",
    "        \"prev_10_game_pk\":\"prev_10_game_pk_home_batter\"\n",
    "    }, inplace=True)\n",
    "\n",
    "    for i in range(N):\n",
    "        home_team_col = f\"prev_{i+1}_game_pk_home_batter\"\n",
    "        away_team_col = f\"prev_{i+1}_game_pk_away_batter\"\n",
    "\n",
    "        ## Add home_team batter stats\n",
    "        games = games.merge(batter_stats, how=\"left\", left_on= [home_team_col , \"home_team\"], right_on= [\"game_pk\", \"team\"], suffixes=(\"\",f\"_home_{i+1}\"))\n",
    "        \n",
    "        games = games.merge(batter_stats, how=\"left\", left_on= [away_team_col , \"away_team\"], right_on= [\"game_pk\", \"team\"], suffixes=(\"\",f\"_away_{i+1}\"))\n",
    "\n",
    "        home_team_col = f\"prev_{i+1}_game_pk_home_pitcher\"\n",
    "        away_team_col = f\"prev_{i+1}_game_pk_away_pitcher\"\n",
    "\n",
    "        home_key_cols = [home_team_col, \"home_team\"]\n",
    "        away_key_cols = [away_team_col, \"away_team\"]\n",
    "\n",
    "               \n",
    "        # Add home_team pitcher stats\n",
    "        games = games.merge(pitcher_stats[[\"game_pk\", \"team\",\"is_home\", \"n_pitches\", \"ip\", \"er\", \"k\", \"bb\", \"h\"]], how=\"left\", left_on= home_key_cols, right_on= [\"game_pk\", \"team\"], suffixes=(\"\",f\"_home_pitcher_{i+1}\"))\n",
    "        # Add away_team pitcher stats\n",
    "        games = games.merge(pitcher_stats[[\"game_pk\", \"team\",\"is_home\", \"n_pitches\", \"ip\", \"er\", \"k\", \"bb\", \"h\"]], how=\"left\", left_on= away_key_cols, right_on= [\"game_pk\", \"team\"], suffixes=(\"\",f\"_away_pitcher_{i+1}\"))\n",
    "    \n",
    "    \n",
    "    return games\n"
   ]
  },
  {
   "cell_type": "code",
   "execution_count": 89,
   "metadata": {},
   "outputs": [
    {
     "name": "stdout",
     "output_type": "stream",
     "text": [
      "This is a large query, it may take a moment to complete\n"
     ]
    },
    {
     "name": "stderr",
     "output_type": "stream",
     "text": [
      "100%|██████████| 186/186 [01:10<00:00,  2.63it/s]\n",
      "C:\\Users\\Welcome\\AppData\\Local\\Temp\\ipykernel_28840\\3108399786.py:2: DeprecationWarning: DataFrameGroupBy.apply operated on the grouping columns. This behavior is deprecated, and in a future version of pandas the grouping columns will be excluded from the operation. Either pass `include_groups=False` to exclude the groupings or explicitly select the grouping columns after groupby to silence this warning.\n",
      "  data_without_batters = df.groupby('game_pk').apply(lambda group: pd.Series({\n",
      "C:\\Users\\Welcome\\AppData\\Local\\Temp\\ipykernel_28840\\3108399786.py:27: DeprecationWarning: DataFrameGroupBy.apply operated on the grouping columns. This behavior is deprecated, and in a future version of pandas the grouping columns will be excluded from the operation. Either pass `include_groups=False` to exclude the groupings or explicitly select the grouping columns after groupby to silence this warning.\n",
      "  away_bs = df.groupby('game_pk').apply(get_away_batting_order)\n",
      "C:\\Users\\Welcome\\AppData\\Local\\Temp\\ipykernel_28840\\3108399786.py:28: DeprecationWarning: DataFrameGroupBy.apply operated on the grouping columns. This behavior is deprecated, and in a future version of pandas the grouping columns will be excluded from the operation. Either pass `include_groups=False` to exclude the groupings or explicitly select the grouping columns after groupby to silence this warning.\n",
      "  home_bs = df.groupby('game_pk').apply(get_home_batting_order)\n"
     ]
    }
   ],
   "source": [
    "df = get_pitch_level_data('2023-03-30','2023-10-01')\n",
    "game_data = get_game_level_data(df)\n",
    "game_batter_data = get_game_level_data_with_batters(df, game_data)\n",
    "\n",
    "prev_batter_games = get_previous_n_batter_games(game_data, 10, save_file = False)\n",
    "prev_pitcher_games = get_previous_n_pitcher_games(game_data, 10, save_file = False)\n",
    "\n",
    "games_with_hist_stats = add_prev_game_stats(game_data, \"cleaned_batting_data_2023.csv\", \"cleaned_pitching_data_2023_starter_era.csv\", prev_batter_games, prev_pitcher_games, 10)\n"
   ]
  },
  {
   "cell_type": "code",
   "execution_count": 90,
   "metadata": {},
   "outputs": [],
   "source": [
    "games_with_hist_stats = add_prev_game_stats(game_data, \"cleaned_batting_data_2023.csv\", \"cleaned_pitching_data_2023_starter_era.csv\", prev_batter_games, prev_pitcher_games, 10)"
   ]
  },
  {
   "cell_type": "code",
   "execution_count": 91,
   "metadata": {},
   "outputs": [],
   "source": [
    "games_with_hist_stats.to_csv(\"games_with_hist_stats.csv\", index = False)\n"
   ]
  },
  {
   "cell_type": "code",
   "execution_count": 85,
   "metadata": {},
   "outputs": [],
   "source": [
    "batter_stats = pd.read_csv(\"cleaned_batting_data_2023.csv\")\n",
    "\n",
    "# Reshape batter stats\n",
    "batter_stats.drop(columns=['Unnamed: 0', 'game_sequence','batter'], inplace=True)\n",
    "df_transformed = batter_stats.melt(id_vars=['game_pk', 'team','batting_order'], var_name='stat', value_name='value')\n",
    "\n",
    "df_pivot = df_transformed.pivot_table(\n",
    "    index= ['game_pk', 'team'], \n",
    "    columns=['stat', 'batting_order'], \n",
    "    values='value'\n",
    ")\n",
    "\n",
    "# Flatten the MultiIndex columns to a single level\n",
    "df_pivot.columns = [f\"{stat}_batter{batter}\" for stat, batter in df_pivot.columns]\n",
    "batter_stats = df_pivot.reset_index()"
   ]
  },
  {
   "cell_type": "code",
   "execution_count": 87,
   "metadata": {},
   "outputs": [
    {
     "data": {
      "text/plain": [
       "Index(['Unnamed: 0', 'game_sequence', 'game_pk', 'team', 'is_home', 'batter',\n",
       "       'batting_order', 'ab', 'bb', 'hbp', 'single', 'double', 'triple', 'hr',\n",
       "       'sf'],\n",
       "      dtype='object')"
      ]
     },
     "execution_count": 87,
     "metadata": {},
     "output_type": "execute_result"
    }
   ],
   "source": [
    "batter_stats = pd.read_csv(\"cleaned_batting_data_2023.csv\")\n",
    "batter_stats.columns"
   ]
  }
 ],
 "metadata": {
  "kernelspec": {
   "display_name": "csc2515_project",
   "language": "python",
   "name": "python3"
  },
  "language_info": {
   "codemirror_mode": {
    "name": "ipython",
    "version": 3
   },
   "file_extension": ".py",
   "mimetype": "text/x-python",
   "name": "python",
   "nbconvert_exporter": "python",
   "pygments_lexer": "ipython3",
   "version": "3.13.0"
  }
 },
 "nbformat": 4,
 "nbformat_minor": 2
}
